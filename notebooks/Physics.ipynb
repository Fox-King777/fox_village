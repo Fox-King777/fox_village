{
 "cells": [
  {
   "cell_type": "code",
   "execution_count": null,
   "id": "8f760532",
   "metadata": {},
   "outputs": [],
   "source": [
    "import matplotlib.pyplot as plt"
   ]
  },
  {
   "cell_type": "code",
   "execution_count": null,
   "id": "25073e01",
   "metadata": {},
   "outputs": [],
   "source": [
    "v = [5, 5.7, 6.4, 7.1, 7.9, 8.6, 9.3]\n",
    "V = [i * 9 for i in v]"
   ]
  },
  {
   "cell_type": "code",
   "execution_count": null,
   "id": "9581c4a9",
   "metadata": {},
   "outputs": [],
   "source": [
    "T = [350, 400, 450, 500, 550, 600, 650]\n",
    "plt.plot(T, V)"
   ]
  },
  {
   "cell_type": "code",
   "execution_count": null,
   "id": "b238bde4",
   "metadata": {},
   "outputs": [],
   "source": [
    "P = [1281, 1570, 1775, 1971, 2170, 2365, 2562]\n",
    "plt.plot([45 for i in range(7)], P)"
   ]
  },
  {
   "cell_type": "code",
   "execution_count": null,
   "id": "c81da040",
   "metadata": {},
   "outputs": [],
   "source": [
    "plt.plot(T, [45 for i in range(7)])"
   ]
  },
  {
   "cell_type": "code",
   "execution_count": null,
   "id": "11522a32",
   "metadata": {},
   "outputs": [],
   "source": [
    "V = [5, 5.5, 6, 6.5, 7, 7.5, 8]\n",
    "for i in range(7):\n",
    "    V[i] = V[i] * 9\n",
    "P = [1379, 1254, 1153, 1059, 981, 918, 865]\n",
    "plt.plot(V, P)"
   ]
  },
  {
   "cell_type": "code",
   "execution_count": null,
   "id": "981c4350",
   "metadata": {},
   "outputs": [],
   "source": [
    "plt.plot([350 for i in range(7)], V)"
   ]
  },
  {
   "cell_type": "code",
   "execution_count": null,
   "id": "e4b7fda9",
   "metadata": {},
   "outputs": [],
   "source": []
  }
 ],
 "metadata": {
  "kernelspec": {
   "display_name": "Python 3",
   "language": "python",
   "name": "python3"
  },
  "language_info": {
   "codemirror_mode": {
    "name": "ipython",
    "version": 3
   },
   "file_extension": ".py",
   "mimetype": "text/x-python",
   "name": "python",
   "nbconvert_exporter": "python",
   "pygments_lexer": "ipython3",
   "version": "3.9.5"
  }
 },
 "nbformat": 4,
 "nbformat_minor": 5
}
