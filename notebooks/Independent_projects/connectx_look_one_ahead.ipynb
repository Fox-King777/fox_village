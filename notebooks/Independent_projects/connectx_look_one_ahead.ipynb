{
 "cells": [
  {
   "cell_type": "code",
   "execution_count": null,
   "id": "fd554609",
   "metadata": {},
   "outputs": [],
   "source": [
    "from dataclasses import dataclass\n",
    "@dataclass\n",
    "class Config:\n",
    "    rows: int\n",
    "    columns: int\n",
    "    inarow: int  \n",
    "@dataclass\n",
    "class Params:\n",
    "    weight_num_threes_opp: float\n",
    "    weight_num_fours: float"
   ]
  },
  {
   "cell_type": "code",
   "execution_count": null,
   "id": "0dc65a84",
   "metadata": {},
   "outputs": [],
   "source": [
    "from kaggle_environments import evaluate, make, utils\n",
    "\n",
    "env = make(\"connectx\", debug=True)\n",
    "\n",
    "env.run([agent, LookOneAheadAgent(Params(weight_num_threes_opp=10, weight_num_fours=100))])\n",
    "\n",
    "env.render(mode=\"ipython\")"
   ]
  },
  {
   "cell_type": "code",
   "execution_count": null,
   "id": "40bbfc80",
   "metadata": {},
   "outputs": [],
   "source": [
    "import numpy as np\n",
    "import random\n",
    "\n",
    "def score_move(grid, col, piece, config, params):\n",
    "    ngrid = drop_piece(grid, col, piece, config)\n",
    "    score = get_heuristic(ngrid, piece, config, params)\n",
    "    return score\n",
    "\n",
    "def drop_piece(grid, col, piece, config):\n",
    "    ngrid = grid.copy()\n",
    "    \n",
    "    for row in range(config.rows - 1, -1, -1):\n",
    "        if grid[row][col] == 0:\n",
    "            break\n",
    "    ngrid[row][col] = piece\n",
    "    return ngrid\n",
    "\n",
    "def get_heuristic(grid, piece, config, params):\n",
    "    num_threes = count_window(grid, 3, piece, config)\n",
    "    num_threes_opp = count_window(grid, 3, piece % 2 + 1, config)\n",
    "    num_fours = count_window(grid, 4, piece, config)\n",
    "    \n",
    "    score = num_threes - params.weight_num_threes_opp * num_threes_opp + params.weight_num_fours * num_fours\n",
    "    return score\n",
    "\n",
    "def check_window(window, num_discs, piece, config):\n",
    "    return (window.count(piece) == num_discs and window.count(0) == config.inarow-num_discs)\n",
    "    \n",
    "def count_window(grid, num_discs, piece, config):\n",
    "    num_windows = 0\n",
    "    \n",
    "    # horizontal\n",
    "    for r in range(config.rows):\n",
    "        for c in range(config.columns - (config.inarow - 1)):\n",
    "            window = [grid[r][c1] for c1 in range(c, c + config.inarow)]\n",
    "            if check_window(window, num_discs, piece, config):\n",
    "                num_windows += 1\n",
    "    # vertical\n",
    "    for c in range(config.columns):\n",
    "        for r in range(config.rows - (config.inarow - 1)):\n",
    "            window = [grid[r1][c] for r1 in range(r, r + config.inarow)]\n",
    "            if check_window(window, num_discs, piece, config):\n",
    "                num_windows += 1\n",
    "    # diagonal\n",
    "    for r in range(config.rows - (config.inarow - 1)):\n",
    "        for c in range(config.columns - (config.inarow - 1)):\n",
    "            window = [grid[r + i][c + i] for i in range(config.inarow)]\n",
    "            #print(window)\n",
    "            if check_window(window, num_discs, piece, config):\n",
    "                num_windows += 1\n",
    "            window = [grid[r + config.inarow - 1 - i][c + i] for i in range(config.inarow)]\n",
    "            #print(window)\n",
    "            if check_window(window, num_discs, piece, config):\n",
    "                num_windows += 1\n",
    "    return num_windows"
   ]
  },
  {
   "cell_type": "code",
   "execution_count": null,
   "id": "31cac4ef",
   "metadata": {},
   "outputs": [],
   "source": [
    "def agent(obs, config):\n",
    "    \n",
    "    valid_moves = [c for c in range(config.columns) if obs.board[c] == 0]\n",
    "    \n",
    "    grid = np.asarray(obs.board).reshape(config.rows, config.columns)\n",
    "    \n",
    "    scores = dict(zip(valid_moves, [score_move(grid, col, obs.mark, config, Params(100, 1e6)) for col in valid_moves]))\n",
    "    \n",
    "    max_cols = [key for key in scores.keys() if scores[key] == max(scores.values())]\n",
    "    \n",
    "    return random.choice(max_cols)"
   ]
  },
  {
   "cell_type": "code",
   "execution_count": null,
   "id": "096604e0",
   "metadata": {},
   "outputs": [],
   "source": [
    "class LookOneAheadAgent:\n",
    "    def __init__(self, params):\n",
    "        self._params = params\n",
    "    \n",
    "    def __call__(self, obs, config):\n",
    "        \n",
    "        #Get list of valid moves\n",
    "        valid_moves = [c for c in range(config.columns) if obs.board[c] == 0]\n",
    "\n",
    "        # Convert the board to a 2D grid\n",
    "        grid = np.asarray(obs.board).reshape(config.rows, config.columns)\n",
    "\n",
    "        # Use the heuristic to assign a score to each possible board in the next turn\n",
    "        scores = dict(zip(valid_moves, [score_move(grid, col, obs.mark, config, self._params) for col in valid_moves]))\n",
    "\n",
    "        # Get a list of columns (moves) that maximize the heuristic\n",
    "        max_cols = [key for key in scores.keys() if scores[key] == max(scores.values())]\n",
    "\n",
    "        # Select at random from the maximizing columns\n",
    "        return random.choice(max_cols)"
   ]
  },
  {
   "cell_type": "code",
   "execution_count": null,
   "id": "520022e8",
   "metadata": {},
   "outputs": [],
   "source": [
    "def get_win_percentages(agent1, agent2, n_rounds=100):\n",
    "    # Use default Connect Four setup\n",
    "    config = {'rows': 6, 'columns': 7, 'inarow': 4}\n",
    "    # Agent 1 goes first (roughly) half the time          \n",
    "    outcomes = evaluate(\"connectx\", [agent1, agent2], config, [], n_rounds//2)\n",
    "    # Agent 2 goes first (roughly) half the time      \n",
    "    outcomes += [[b,a] for [a,b] in evaluate(\"connectx\", [agent2, agent1], config, [], n_rounds-n_rounds//2)]\n",
    "    print(\"Agent 1 Win Percentage:\", np.round(outcomes.count([1,-1])/len(outcomes), 2))\n",
    "    print(\"Agent 2 Win Percentage:\", np.round(outcomes.count([-1,1])/len(outcomes), 2))\n",
    "    print(\"Number of Invalid Plays by Agent 1:\", outcomes.count([None, 0]))\n",
    "    print(\"Number of Invalid Plays by Agent 2:\", outcomes.count([0, None]))"
   ]
  },
  {
   "cell_type": "code",
   "execution_count": null,
   "id": "4fc7d0fc",
   "metadata": {},
   "outputs": [],
   "source": [
    "get_win_percentages(agent1=LookOneAheadAgent(Params(weight_num_threes_opp=10, weight_num_fours=100)),\n",
    "                    agent2=\"random\")"
   ]
  },
  {
   "cell_type": "code",
   "execution_count": null,
   "id": "3f1dd975",
   "metadata": {},
   "outputs": [],
   "source": [
    "weights3 = [4, 8, 10, 20, 40]\n",
    "weights4 = [20, 50, 100, 200, 400]"
   ]
  },
  {
   "cell_type": "code",
   "execution_count": null,
   "id": "a7355d11",
   "metadata": {},
   "outputs": [],
   "source": [
    "for w3 in  weights3:\n",
    "    for w4 in weights4:\n",
    "        print(w3, w4)\n",
    "        print(get_win_percentages(agent1=LookOneAheadAgent(Params(weight_num_threes_opp=w3, weight_num_fours=w4)),\n",
    "                                  agent2=LookOneAheadAgent(Params(weight_num_threes_opp=10, weight_num_fours=100))))"
   ]
  }
 ],
 "metadata": {
  "kernelspec": {
   "display_name": "Python 3",
   "language": "python",
   "name": "python3"
  },
  "language_info": {
   "codemirror_mode": {
    "name": "ipython",
    "version": 3
   },
   "file_extension": ".py",
   "mimetype": "text/x-python",
   "name": "python",
   "nbconvert_exporter": "python",
   "pygments_lexer": "ipython3",
   "version": "3.12.1"
  }
 },
 "nbformat": 4,
 "nbformat_minor": 5
}
