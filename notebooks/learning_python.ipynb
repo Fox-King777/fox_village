{
 "cells": [
  {
   "cell_type": "markdown",
   "id": "771fa3fc",
   "metadata": {},
   "source": [
    "# Learning Python"
   ]
  },
  {
   "cell_type": "markdown",
   "id": "91a04fe8",
   "metadata": {},
   "source": [
    "### This is a header\n",
    "*hello* `hello` \n",
    "* Point 1\n",
    "* Point 2\n",
    "* Point 3\n",
    "https://www.kaggle.com/learn/python"
   ]
  },
  {
   "cell_type": "code",
   "execution_count": null,
   "id": "92a45e18",
   "metadata": {},
   "outputs": [],
   "source": [
    "from pprint import pprint"
   ]
  },
  {
   "cell_type": "code",
   "execution_count": null,
   "id": "eef2567c",
   "metadata": {},
   "outputs": [],
   "source": [
    "a = 'hello world'"
   ]
  },
  {
   "cell_type": "code",
   "execution_count": null,
   "id": "742094dd",
   "metadata": {},
   "outputs": [],
   "source": [
    "print(a)"
   ]
  },
  {
   "cell_type": "code",
   "execution_count": null,
   "id": "d44f2697",
   "metadata": {},
   "outputs": [],
   "source": [
    "def plus(a, b):\n",
    "    return a + b"
   ]
  },
  {
   "cell_type": "code",
   "execution_count": null,
   "id": "0db5e33b",
   "metadata": {},
   "outputs": [],
   "source": [
    "plus(3, 5)"
   ]
  },
  {
   "cell_type": "code",
   "execution_count": null,
   "id": "89a1261a",
   "metadata": {},
   "outputs": [],
   "source": [
    "plus('hello', 'world')"
   ]
  },
  {
   "cell_type": "code",
   "execution_count": null,
   "id": "36bebfbc",
   "metadata": {},
   "outputs": [],
   "source": [
    "spam_amount = 0\n",
    "print(spam_amount)\n",
    "\n",
    "# Ordering Spam, egg, Spam, Spam, bacon and Spam (4 more servings of Spam)\n",
    "spam_amount = spam_amount + 4\n",
    "\n",
    "if spam_amount > 0:\n",
    "    print(\"But I don't want ANY spam!\")\n",
    "\n",
    "viking_song = \"Spam \" * spam_amount\n",
    "print(viking_song)"
   ]
  },
  {
   "cell_type": "code",
   "execution_count": null,
   "id": "2484275d",
   "metadata": {},
   "outputs": [],
   "source": [
    "print(5 / 2)\n",
    "print(6 / 2)"
   ]
  },
  {
   "cell_type": "code",
   "execution_count": null,
   "id": "057241b1",
   "metadata": {},
   "outputs": [],
   "source": [
    "print(5 // 2)\n",
    "print(6 // 2)"
   ]
  },
  {
   "cell_type": "code",
   "execution_count": null,
   "id": "f6b39d02",
   "metadata": {},
   "outputs": [],
   "source": [
    "print(5 ** 2)\n",
    "print(6 ** 2)"
   ]
  },
  {
   "cell_type": "code",
   "execution_count": null,
   "id": "9ffb50e5",
   "metadata": {},
   "outputs": [],
   "source": [
    "hat_height_cm = 25\n",
    "my_height_cm = 190\n",
    "total_height_meters = (hat_height_cm + my_height_cm) / 100\n",
    "print(\"Height in meters =\", total_height_meters)"
   ]
  },
  {
   "cell_type": "code",
   "execution_count": null,
   "id": "0e243ea7",
   "metadata": {},
   "outputs": [],
   "source": [
    "def least_difference(a, b, c):\n",
    "    \"\"\"Computes the least difference between a, b and c\n",
    "    \n",
    "    Args:\n",
    "        a: The first input\n",
    "        b: The second input\n",
    "        c: The third input\n",
    "    \n",
    "    Returns:\n",
    "        The least difference between a, b and c\n",
    "    \"\"\"\n",
    "    diff1 = abs(a - b)\n",
    "    diff2 = abs(b - c)\n",
    "    diff3 = abs(a - c)\n",
    "    return min(diff1, diff2, diff3)"
   ]
  },
  {
   "cell_type": "code",
   "execution_count": null,
   "id": "057215d7",
   "metadata": {},
   "outputs": [],
   "source": [
    "least_difference(1, 3, 100)"
   ]
  },
  {
   "cell_type": "code",
   "execution_count": null,
   "id": "c0d15e66",
   "metadata": {},
   "outputs": [],
   "source": [
    "help(least_difference)"
   ]
  },
  {
   "cell_type": "code",
   "execution_count": null,
   "id": "1a21980f",
   "metadata": {},
   "outputs": [],
   "source": [
    "def append_list(a):\n",
    "    a.append('world')\n",
    "def append_str(a):\n",
    "    a += 'world'"
   ]
  },
  {
   "cell_type": "code",
   "execution_count": null,
   "id": "01ac49e7",
   "metadata": {},
   "outputs": [],
   "source": [
    "x = ['foo']"
   ]
  },
  {
   "cell_type": "code",
   "execution_count": null,
   "id": "d0b78d04",
   "metadata": {},
   "outputs": [],
   "source": [
    "append_list(x)"
   ]
  },
  {
   "cell_type": "code",
   "execution_count": null,
   "id": "603d363e",
   "metadata": {},
   "outputs": [],
   "source": [
    "x"
   ]
  },
  {
   "cell_type": "code",
   "execution_count": null,
   "id": "acb13c01",
   "metadata": {},
   "outputs": [],
   "source": [
    "y = 'foo'"
   ]
  },
  {
   "cell_type": "code",
   "execution_count": null,
   "id": "9acb156e",
   "metadata": {},
   "outputs": [],
   "source": [
    "append_str(y)"
   ]
  },
  {
   "cell_type": "code",
   "execution_count": null,
   "id": "c387d9cc",
   "metadata": {},
   "outputs": [],
   "source": [
    "y"
   ]
  },
  {
   "cell_type": "code",
   "execution_count": null,
   "id": "b77bc79f",
   "metadata": {},
   "outputs": [],
   "source": [
    "print(1, 2, 3, sep=' hello ')"
   ]
  },
  {
   "cell_type": "code",
   "execution_count": null,
   "id": "c241d807",
   "metadata": {},
   "outputs": [],
   "source": [
    "help(print)"
   ]
  },
  {
   "cell_type": "code",
   "execution_count": null,
   "id": "8b7a51ee",
   "metadata": {},
   "outputs": [],
   "source": [
    "def greet(who=\"Guest\"):\n",
    "    print(\"Hello,\", who)\n",
    "    \n",
    "greet()\n",
    "greet(who=\"Kaggle\")\n",
    "# (In this case, we don't need to specify the name of the argument, because it's unambiguous.)\n",
    "greet(\"world\")"
   ]
  },
  {
   "cell_type": "code",
   "execution_count": null,
   "id": "aabbd975",
   "metadata": {},
   "outputs": [],
   "source": [
    "def mult_by_five(x):\n",
    "    return 5 * x\n",
    "\n",
    "def square(x):\n",
    "    return x * x\n",
    "\n",
    "def exp(x):\n",
    "    return 3 ** x\n",
    "\n",
    "def print_table(l, fn):\n",
    "    print('Table for', fn.__name__)\n",
    "    for v in l:\n",
    "        print(v, fn(v), sep=': ')"
   ]
  },
  {
   "cell_type": "code",
   "execution_count": null,
   "id": "1ea04f69",
   "metadata": {},
   "outputs": [],
   "source": [
    "print_table([1, 2, 3, 4, 5], mult_by_five)"
   ]
  },
  {
   "cell_type": "code",
   "execution_count": null,
   "id": "11b40c22",
   "metadata": {},
   "outputs": [],
   "source": [
    "print_table([1, 2, 3, 4, 5], exp)"
   ]
  },
  {
   "cell_type": "code",
   "execution_count": null,
   "id": "e41bb8dc",
   "metadata": {},
   "outputs": [],
   "source": [
    "x = True\n",
    "print(x)\n",
    "print(type(x))"
   ]
  },
  {
   "cell_type": "code",
   "execution_count": null,
   "id": "0508d548",
   "metadata": {},
   "outputs": [],
   "source": [
    "def can_run_for_president(age):\n",
    "    \"\"\"Can someone of the given age run for president in the US?\"\"\"\n",
    "    # The US Constitution says you must be at least 35 years old\n",
    "    return age >= 35\n",
    "\n",
    "print(\"Can a 19-year-old run for president?\", can_run_for_president(19))\n",
    "print(\"Can a 45-year-old run for president?\", can_run_for_president(45))"
   ]
  },
  {
   "cell_type": "code",
   "execution_count": null,
   "id": "2af12435",
   "metadata": {},
   "outputs": [],
   "source": [
    "-8 % 3"
   ]
  },
  {
   "cell_type": "code",
   "execution_count": null,
   "id": "22146b55",
   "metadata": {},
   "outputs": [],
   "source": [
    "def inspect(x):\n",
    "    if x == 0:\n",
    "        print(x, \"is zero\")\n",
    "    elif x > 0:\n",
    "        print(x, \"is positive\")\n",
    "    elif x < 0:\n",
    "        print(x, \"is negative\")\n",
    "    else:\n",
    "        print(x, \"is unlike anything I've ever seen...\")\n",
    "\n",
    "inspect(0)\n",
    "inspect(-15)"
   ]
  },
  {
   "cell_type": "code",
   "execution_count": null,
   "id": "eed568f1",
   "metadata": {},
   "outputs": [],
   "source": [
    "print(bool(1)) # all numbers are treated as true, except 0\n",
    "print(bool(0))\n",
    "print(bool(\"asf\")) # all strings are treated as true, except the empty string \"\"\n",
    "print(bool(\"\"))\n",
    "print(bool([1, 213, 'first']))\n",
    "print(bool([]))\n",
    "print(bool({1, 213, 'first'}))\n",
    "print(bool({}))\n",
    "# Generally empty sequences (strings, lists, and other types we've yet to see like lists and tuples)\n",
    "# are \"falsey\" and the rest are \"truthy\""
   ]
  },
  {
   "cell_type": "code",
   "execution_count": null,
   "id": "156bc8b1",
   "metadata": {},
   "outputs": [],
   "source": [
    "def is_list_empty(l):\n",
    "    if l:\n",
    "        print('The list is not empty.')\n",
    "    else:\n",
    "        print('The list is empty.')"
   ]
  },
  {
   "cell_type": "code",
   "execution_count": null,
   "id": "f12561a4",
   "metadata": {},
   "outputs": [],
   "source": [
    "is_list_empty(['hello', 'world'])"
   ]
  },
  {
   "cell_type": "code",
   "execution_count": null,
   "id": "218ea9db",
   "metadata": {},
   "outputs": [],
   "source": [
    "is_list_empty([])"
   ]
  },
  {
   "cell_type": "code",
   "execution_count": null,
   "id": "bfa1829b",
   "metadata": {},
   "outputs": [],
   "source": [
    "# (I could also have written this on one line, but it can get hard to read)\n",
    "hands = [['J', 'Q', 'K'], ['2', '2', '2'], ['6', 'A', 'K'], ['J', 'Q', 'K'], ['2', '2', '2'], ['6', 'A', 'K']]"
   ]
  },
  {
   "cell_type": "code",
   "execution_count": null,
   "id": "8d60967e",
   "metadata": {},
   "outputs": [],
   "source": [
    "import pprint"
   ]
  },
  {
   "cell_type": "code",
   "execution_count": null,
   "id": "437db706",
   "metadata": {},
   "outputs": [],
   "source": [
    "pprint.pprint(hands)"
   ]
  },
  {
   "cell_type": "code",
   "execution_count": null,
   "id": "a2c73a9c",
   "metadata": {},
   "outputs": [],
   "source": [
    "planets = ['Mercury', 'Venus', 'Earth', 'Mars', 'Jupiter', 'Saturn', 'Uranus', 'Neptune']"
   ]
  },
  {
   "cell_type": "code",
   "execution_count": null,
   "id": "adafaf40",
   "metadata": {},
   "outputs": [],
   "source": [
    "planets[-2]"
   ]
  },
  {
   "cell_type": "code",
   "execution_count": null,
   "id": "244d4cc3",
   "metadata": {},
   "outputs": [],
   "source": [
    "planets[1:]"
   ]
  },
  {
   "cell_type": "code",
   "execution_count": null,
   "id": "a10cbeb2",
   "metadata": {},
   "outputs": [],
   "source": [
    "planets[0:3] = ['hello']"
   ]
  },
  {
   "cell_type": "code",
   "execution_count": null,
   "id": "25f95f9e",
   "metadata": {},
   "outputs": [],
   "source": [
    "print(planets)"
   ]
  },
  {
   "cell_type": "code",
   "execution_count": null,
   "id": "878ec9ea",
   "metadata": {},
   "outputs": [],
   "source": [
    "x = 12\n",
    "# x is a real number, so its imaginary part is 0.\n",
    "print(x.imag)\n",
    "# Here's how to make a complex number, in case you've ever been curious:\n",
    "c = 12 + 3j\n",
    "print(c.imag)"
   ]
  },
  {
   "cell_type": "code",
   "execution_count": null,
   "id": "2a5cde41",
   "metadata": {},
   "outputs": [],
   "source": [
    "print(c*c)"
   ]
  },
  {
   "cell_type": "code",
   "execution_count": null,
   "id": "a90adc13",
   "metadata": {},
   "outputs": [],
   "source": [
    "print({1, 2, 4} & {1, 2, 3})"
   ]
  },
  {
   "cell_type": "code",
   "execution_count": null,
   "id": "67cc2834",
   "metadata": {},
   "outputs": [],
   "source": [
    "planets.index('Earth')"
   ]
  },
  {
   "cell_type": "code",
   "execution_count": null,
   "id": "9653cd63",
   "metadata": {},
   "outputs": [],
   "source": [
    "'Pluto' in planets"
   ]
  },
  {
   "cell_type": "code",
   "execution_count": null,
   "id": "b753c4b5",
   "metadata": {},
   "outputs": [],
   "source": [
    "t = 1, 2, 3"
   ]
  },
  {
   "cell_type": "code",
   "execution_count": null,
   "id": "2956f72b",
   "metadata": {},
   "outputs": [],
   "source": [
    "t[0] = 100"
   ]
  },
  {
   "cell_type": "code",
   "execution_count": null,
   "id": "fe7622f7",
   "metadata": {},
   "outputs": [],
   "source": [
    "def foo():\n",
    "    return 1, 2"
   ]
  },
  {
   "cell_type": "code",
   "execution_count": null,
   "id": "7207de86",
   "metadata": {},
   "outputs": [],
   "source": [
    "a = foo()"
   ]
  },
  {
   "cell_type": "code",
   "execution_count": null,
   "id": "c3e80794",
   "metadata": {},
   "outputs": [],
   "source": [
    "a"
   ]
  },
  {
   "cell_type": "code",
   "execution_count": null,
   "id": "1f1fe0e9",
   "metadata": {},
   "outputs": [],
   "source": [
    "a, b = foo()"
   ]
  },
  {
   "cell_type": "code",
   "execution_count": null,
   "id": "30093e52",
   "metadata": {},
   "outputs": [],
   "source": [
    "a = 1\n",
    "b = 0\n",
    "a, b = b, a\n",
    "print(a, b)"
   ]
  },
  {
   "cell_type": "code",
   "execution_count": null,
   "id": "7fffb342",
   "metadata": {},
   "outputs": [],
   "source": [
    "planets = ['Mercury', 'Venus', 'Earth', 'Mars', 'Jupiter', 'Saturn', 'Uranus', 'Neptune']\n",
    "for i, planet in list(enumerate(planets))[1:7]:\n",
    "    print(i, planet, end=' ') # print all on same line"
   ]
  },
  {
   "cell_type": "code",
   "execution_count": null,
   "id": "428c144b",
   "metadata": {},
   "outputs": [],
   "source": [
    "s = 'steganograpHy is the practicE of conceaLing a file, message, image, or video within another fiLe, message, image, Or video.'\n",
    "msg = ''\n",
    "# print all the uppercase letters in s, one at a time\n",
    "for char in s:\n",
    "    if char.isupper():\n",
    "        print(char, end='')   "
   ]
  },
  {
   "cell_type": "code",
   "execution_count": null,
   "id": "553fb4fc",
   "metadata": {},
   "outputs": [],
   "source": [
    "pprint(list(range(2, 100, 4)))"
   ]
  },
  {
   "cell_type": "code",
   "execution_count": null,
   "id": "d462a014",
   "metadata": {},
   "outputs": [],
   "source": [
    "help(range)"
   ]
  },
  {
   "cell_type": "code",
   "execution_count": null,
   "id": "a1289294",
   "metadata": {},
   "outputs": [],
   "source": [
    "numbers = {'one':1, 'two':2, 'three':3}"
   ]
  },
  {
   "cell_type": "code",
   "execution_count": null,
   "id": "8e23513c",
   "metadata": {},
   "outputs": [],
   "source": [
    "numbers['one']"
   ]
  },
  {
   "cell_type": "code",
   "execution_count": null,
   "id": "ce36cc42",
   "metadata": {},
   "outputs": [],
   "source": [
    "numbers[1] = 11"
   ]
  },
  {
   "cell_type": "code",
   "execution_count": null,
   "id": "2c7f3ef6",
   "metadata": {},
   "outputs": [],
   "source": [
    "print(numbers)"
   ]
  },
  {
   "cell_type": "code",
   "execution_count": null,
   "id": "dc1000c1",
   "metadata": {},
   "outputs": [],
   "source": [
    "numbers[2]"
   ]
  },
  {
   "cell_type": "code",
   "execution_count": null,
   "id": "a7dac7c7",
   "metadata": {},
   "outputs": [],
   "source": [
    "planets = ['Mercury', 'Venus', 'Earth', 'Mars', 'Jupiter', 'Saturn', 'Uranus', 'Neptune']\n",
    "planet_to_initial = {planet: planet[0] for planet in planets}\n",
    "planet_to_initial"
   ]
  },
  {
   "cell_type": "code",
   "execution_count": null,
   "id": "ed00e768",
   "metadata": {},
   "outputs": [],
   "source": [
    "' '.join(sorted(planet_to_initial.values()))"
   ]
  },
  {
   "cell_type": "code",
   "execution_count": null,
   "id": "cbbc5550",
   "metadata": {},
   "outputs": [],
   "source": [
    "'Saturn' in planet_to_initial"
   ]
  },
  {
   "cell_type": "code",
   "execution_count": null,
   "id": "59e713f1",
   "metadata": {},
   "outputs": [],
   "source": [
    "'S' in planet_to_initial"
   ]
  },
  {
   "cell_type": "code",
   "execution_count": null,
   "id": "dfa2077a",
   "metadata": {},
   "outputs": [],
   "source": [
    "for k in numbers:\n",
    "    print(f\"{k} = {numbers[k]}\")"
   ]
  },
  {
   "cell_type": "code",
   "execution_count": null,
   "id": "42d80c21",
   "metadata": {},
   "outputs": [],
   "source": [
    "sorted(planet_to_initial.values())"
   ]
  },
  {
   "cell_type": "code",
   "execution_count": null,
   "id": "7f9184d2",
   "metadata": {},
   "outputs": [],
   "source": [
    "sorted(planet_to_initial.keys())"
   ]
  },
  {
   "cell_type": "code",
   "execution_count": null,
   "id": "ec5b6b78",
   "metadata": {},
   "outputs": [],
   "source": [
    "for planet, initial in planet_to_initial.items():\n",
    "    print(f\"{planet.rjust(10)} begins with \\\"{initial}\\\"\")"
   ]
  },
  {
   "cell_type": "code",
   "execution_count": null,
   "id": "dcce1210",
   "metadata": {},
   "outputs": [],
   "source": [
    "s = ', '"
   ]
  },
  {
   "cell_type": "code",
   "execution_count": null,
   "id": "acca40ae",
   "metadata": {},
   "outputs": [],
   "source": [
    "s.join('123').split(\", \")"
   ]
  },
  {
   "cell_type": "code",
   "execution_count": null,
   "id": "79ca8e80",
   "metadata": {},
   "outputs": [],
   "source": [
    "a = [int(input()) for _ in range(3)]"
   ]
  },
  {
   "cell_type": "code",
   "execution_count": null,
   "id": "c7a2905c",
   "metadata": {},
   "outputs": [],
   "source": [
    "a"
   ]
  },
  {
   "cell_type": "code",
   "execution_count": null,
   "id": "1108fb8e",
   "metadata": {},
   "outputs": [],
   "source": [
    "short_planets = [planet for planet in planets if len(planet) < 6]\n",
    "short_planets"
   ]
  },
  {
   "cell_type": "code",
   "execution_count": null,
   "id": "2321bf44",
   "metadata": {},
   "outputs": [],
   "source": [
    "loud_short_planets = [planet.upper() + '!' for planet in planets if len(planet) < 6]\n",
    "loud_short_planets"
   ]
  },
  {
   "cell_type": "code",
   "execution_count": null,
   "id": "24268444",
   "metadata": {},
   "outputs": [],
   "source": [
    "def count_negatives(nums):\n",
    "    \"\"\"Return the number of negative numbers in the given list.\n",
    "    \n",
    "    >>> count_negatives([5, -1, -2, 0, 3])\n",
    "    2\n",
    "    \"\"\"\n",
    "    n_negative = 0\n",
    "    for num in nums:\n",
    "        if num < 0:\n",
    "            n_negative = n_negative + 1\n",
    "    return n_negative"
   ]
  },
  {
   "cell_type": "code",
   "execution_count": null,
   "id": "5be37373",
   "metadata": {},
   "outputs": [],
   "source": [
    "count_negatives([5, -1, -2, 0, 3])"
   ]
  },
  {
   "cell_type": "code",
   "execution_count": null,
   "id": "43fbe4d2",
   "metadata": {},
   "outputs": [],
   "source": [
    "def count_negatives_2(nums):\n",
    "    return len([num for num in nums if num < 0])"
   ]
  },
  {
   "cell_type": "code",
   "execution_count": null,
   "id": "f7038c30",
   "metadata": {},
   "outputs": [],
   "source": [
    "count_negatives_2([5, -1, -2, 0, 3])"
   ]
  },
  {
   "cell_type": "code",
   "execution_count": null,
   "id": "4272a460",
   "metadata": {},
   "outputs": [],
   "source": [
    "def count_negatives_3(nums):\n",
    "    return sum(num < 0 for num in nums)"
   ]
  },
  {
   "cell_type": "code",
   "execution_count": null,
   "id": "fd3a2791",
   "metadata": {},
   "outputs": [],
   "source": [
    "count_negatives_3([5, -1, -2, 0, 3])"
   ]
  },
  {
   "cell_type": "code",
   "execution_count": null,
   "id": "951b899f",
   "metadata": {},
   "outputs": [],
   "source": [
    "print(\"Pluto's a planet!\")\n",
    "print('My dog is named \"Pluto\"')\n",
    "print(\"My dog is named \\\"Pluto\\\" \")"
   ]
  },
  {
   "cell_type": "code",
   "execution_count": null,
   "id": "77d473e1",
   "metadata": {},
   "outputs": [],
   "source": [
    "hello = \"hello\\nworld\"\n",
    "print(hello)"
   ]
  },
  {
   "cell_type": "code",
   "execution_count": null,
   "id": "2f5dc705",
   "metadata": {},
   "outputs": [],
   "source": [
    "triplequoted_hello = \"\"\"hello\n",
    "world\"\"\"\n",
    "print(triplequoted_hello)\n",
    "triplequoted_hello == hello"
   ]
  },
  {
   "cell_type": "code",
   "execution_count": null,
   "id": "57fd4601",
   "metadata": {},
   "outputs": [],
   "source": [
    "claim = \"Pluto is a planet!\"\n",
    "planet = 'Pluto'"
   ]
  },
  {
   "cell_type": "code",
   "execution_count": null,
   "id": "62b0e0f4",
   "metadata": {},
   "outputs": [],
   "source": [
    "claim.startswith(planet)"
   ]
  },
  {
   "cell_type": "code",
   "execution_count": null,
   "id": "3b483711",
   "metadata": {},
   "outputs": [],
   "source": [
    "claim.endswith('dwarf planet')"
   ]
  },
  {
   "cell_type": "code",
   "execution_count": null,
   "id": "a8ce1bcf",
   "metadata": {},
   "outputs": [],
   "source": [
    "words = claim.split()\n",
    "words"
   ]
  },
  {
   "cell_type": "code",
   "execution_count": null,
   "id": "544bb8d0",
   "metadata": {},
   "outputs": [],
   "source": [
    "datestr = '1956-01-31'\n",
    "year, month, day = datestr.split('-')"
   ]
  },
  {
   "cell_type": "code",
   "execution_count": null,
   "id": "3dd476d2",
   "metadata": {},
   "outputs": [],
   "source": [
    "'/'.join([month, day, year])"
   ]
  },
  {
   "cell_type": "code",
   "execution_count": null,
   "id": "8dcc7a1e",
   "metadata": {},
   "outputs": [],
   "source": [
    "' 👏 '.join([word.upper() for word in words])"
   ]
  },
  {
   "cell_type": "code",
   "execution_count": null,
   "id": "78f253bd",
   "metadata": {},
   "outputs": [],
   "source": [
    "position = 9\n",
    "planet + \", you'll always be the \" + str(position) + \"th planet to me.\""
   ]
  },
  {
   "cell_type": "code",
   "execution_count": null,
   "id": "c872af81",
   "metadata": {},
   "outputs": [],
   "source": [
    "\"{}, you'll always be the {}th planet to me.\".format(planet, position)"
   ]
  },
  {
   "cell_type": "code",
   "execution_count": null,
   "id": "87727554",
   "metadata": {},
   "outputs": [],
   "source": [
    "pluto_mass = 1.303 * 10**22\n",
    "earth_mass = 5.9722 * 10**24\n",
    "population = 52910390\n",
    "#         2 decimal points   3 decimal points, format as percent     separate with commas\n",
    "\"{} weighs about {:.2} kilograms ({:.3%} of Earth's mass). It is home to {:,} Plutonians.\".format(\n",
    "    planet, pluto_mass, pluto_mass / earth_mass, population,\n",
    ")"
   ]
  },
  {
   "cell_type": "code",
   "execution_count": null,
   "id": "595c2b76",
   "metadata": {},
   "outputs": [],
   "source": [
    "# Referring to format() arguments by index, starting from 0\n",
    "s = \"\"\"Pluto's a {0}.\n",
    "No, it's a {1}.\n",
    "{0}!\n",
    "{1}!\"\"\".format('planet', 'dwarf planet')\n",
    "print(s)"
   ]
  },
  {
   "cell_type": "code",
   "execution_count": null,
   "id": "e328422e",
   "metadata": {},
   "outputs": [],
   "source": [
    "f\"{planet}, you'll always be the {position}th planet to me.\""
   ]
  },
  {
   "cell_type": "code",
   "execution_count": null,
   "id": "64916a10",
   "metadata": {},
   "outputs": [],
   "source": [
    "numbers = {'one':1, 'two':2, 'three':3}"
   ]
  },
  {
   "cell_type": "code",
   "execution_count": null,
   "id": "768e7d44",
   "metadata": {},
   "outputs": [],
   "source": [
    "numbers"
   ]
  },
  {
   "cell_type": "code",
   "execution_count": null,
   "id": "4a71fc55",
   "metadata": {},
   "outputs": [],
   "source": [
    "numbers['one']"
   ]
  },
  {
   "cell_type": "code",
   "execution_count": null,
   "id": "978eb3ec",
   "metadata": {},
   "outputs": [],
   "source": [
    "sorted(planets)"
   ]
  },
  {
   "cell_type": "code",
   "execution_count": null,
   "id": "3af704fa",
   "metadata": {},
   "outputs": [],
   "source": [
    "sorted(planets, key=len, reverse=True)"
   ]
  },
  {
   "cell_type": "code",
   "execution_count": null,
   "id": "7a404c16",
   "metadata": {},
   "outputs": [],
   "source": [
    "list(reversed(planets))"
   ]
  },
  {
   "cell_type": "code",
   "execution_count": null,
   "id": "a4bbbc38",
   "metadata": {},
   "outputs": [],
   "source": [
    "list(zip([1, 2, 3], ['a', 'b', 'c']))"
   ]
  },
  {
   "cell_type": "code",
   "execution_count": null,
   "id": "390d56c1",
   "metadata": {},
   "outputs": [],
   "source": [
    "import numpy as np"
   ]
  },
  {
   "cell_type": "code",
   "execution_count": null,
   "id": "b62b2b8f",
   "metadata": {},
   "outputs": [],
   "source": [
    "a = np.asarray([1, 2, 3, 4, 5, 6]).reshape(2, 3)"
   ]
  },
  {
   "cell_type": "code",
   "execution_count": null,
   "id": "3f425073",
   "metadata": {},
   "outputs": [],
   "source": [
    "a"
   ]
  },
  {
   "cell_type": "code",
   "execution_count": null,
   "id": "e56cb77f",
   "metadata": {},
   "outputs": [],
   "source": [
    "a * a"
   ]
  },
  {
   "cell_type": "code",
   "execution_count": null,
   "id": "226d8500",
   "metadata": {},
   "outputs": [],
   "source": [
    "np.array([1, 3, 4]) / np.array([2, 3, 4])"
   ]
  },
  {
   "cell_type": "code",
   "execution_count": null,
   "id": "63878052",
   "metadata": {},
   "outputs": [],
   "source": [
    "import math\n",
    "import numpy as np\n",
    "\n",
    "d = [x for x in range(4, 19)]\n",
    "x = [33, 32, 31, 29.3, 27.5, 26.2, 24.5, 23, 21, 18.5, 16.5, 13.2, 11.7, 8.6, 5.4]\n",
    "y = 30.3\n",
    "v = [(x[i] * 0.01) / math.sqrt(2 * y * 0.01 / 9.81)  for i in range(15)]\n",
    "\n",
    "for i in range(15):\n",
    "    print('%.2f'%v[i])"
   ]
  },
  {
   "cell_type": "code",
   "execution_count": null,
   "id": "1d7abce1",
   "metadata": {},
   "outputs": [],
   "source": [
    "D = np.array(d)\n",
    "V = np.array(v)\n",
    "plt.plot(d, v)"
   ]
  },
  {
   "cell_type": "code",
   "execution_count": null,
   "id": "0506f59b",
   "metadata": {},
   "outputs": [],
   "source": []
  }
 ],
 "metadata": {
  "kernelspec": {
   "display_name": "Python 3",
   "language": "python",
   "name": "python3"
  },
  "language_info": {
   "codemirror_mode": {
    "name": "ipython",
    "version": 3
   },
   "file_extension": ".py",
   "mimetype": "text/x-python",
   "name": "python",
   "nbconvert_exporter": "python",
   "pygments_lexer": "ipython3",
   "version": "3.9.5"
  }
 },
 "nbformat": 4,
 "nbformat_minor": 5
}
