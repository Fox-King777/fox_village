{
 "cells": [
  {
   "cell_type": "code",
   "execution_count": 5,
   "id": "57612872",
   "metadata": {},
   "outputs": [],
   "source": [
    "def compress(a):\n",
    "    compressed = [1]\n",
    "    index = 0\n",
    "    for i in range(1, len(a)):\n",
    "        if a[i] != a[i - 1]:\n",
    "            compressed.append(0)\n",
    "            index += 1\n",
    "        compressed[index] += 1\n",
    "    compressed.sort()\n",
    "    return compressed"
   ]
  },
  {
   "cell_type": "code",
   "execution_count": 6,
   "id": "a2036368",
   "metadata": {},
   "outputs": [],
   "source": [
    "def solve(compressed, c):\n",
    "    s = 0\n",
    "    for i in range(len(compressed)):\n",
    "        if (compressed[i] >= c):\n",
    "            s += compressed[i] - c\n",
    "        else:\n",
    "            s += compressed[i]\n",
    "    return s"
   ]
  },
  {
   "cell_type": "code",
   "execution_count": 7,
   "id": "d4782ed0",
   "metadata": {},
   "outputs": [
    {
     "name": "stdout",
     "output_type": "stream",
     "text": [
      "4\n",
      "100\n",
      "100\n",
      "100\n",
      "4\n",
      "1\n"
     ]
    }
   ],
   "source": [
    "n = int(input())\n",
    "ans = 2 * (10 ** 9)\n",
    "\n",
    "a = []\n",
    "for i in range(n):\n",
    "    inp = int(input())\n",
    "    a.append(inp)\n",
    "\n",
    "for e in set(compress(sorted(a))):\n",
    "    ans = min(ans, solve(compressed, e))\n",
    "\n",
    "print(ans)"
   ]
  },
  {
   "cell_type": "code",
   "execution_count": null,
   "id": "32fb0361",
   "metadata": {},
   "outputs": [],
   "source": []
  }
 ],
 "metadata": {
  "kernelspec": {
   "display_name": "Python 3",
   "language": "python",
   "name": "python3"
  },
  "language_info": {
   "codemirror_mode": {
    "name": "ipython",
    "version": 3
   },
   "file_extension": ".py",
   "mimetype": "text/x-python",
   "name": "python",
   "nbconvert_exporter": "python",
   "pygments_lexer": "ipython3",
   "version": "3.9.5"
  }
 },
 "nbformat": 4,
 "nbformat_minor": 5
}
