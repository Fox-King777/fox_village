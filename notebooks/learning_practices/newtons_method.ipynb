{
 "cells": [
  {
   "cell_type": "markdown",
   "metadata": {},
   "source": [
    "## Implementation of Newton's Method for Optimization\n",
    "\n",
    "#### 2nd order Taylor Expasion\n",
    "$f(x_k + t) \\approx  f(x_k) + f'(x_k) t + \\frac{1}{2} f''(x_k) t^2$\n",
    "\n",
    "$\\frac{\\rm d}{{\\rm d} t} \\left(f(x_k) + f'(x_k) t + \\frac 1 2 f''(x_k) t^2\\right) = f'(x_k) + f'' (x_k) t,$\n",
    "\n",
    "\n",
    "the minimum is achieved for\n",
    "\n",
    "\n",
    "$t = -\\frac{f'(x_k)}{f''(x_k)}$\n",
    "\n",
    "\n",
    "Putting everything together, Newton's method performs the iteration\n",
    "\n",
    "\n",
    "$x_{k+1} = x_k + t = x_k - \\frac{f'(x_k)}{f''(x_k)}$"
   ]
  },
  {
   "cell_type": "code",
   "execution_count": null,
   "metadata": {},
   "outputs": [],
   "source": [
    "import autograd.numpy as np\n",
    "from autograd import grad\n",
    "import math"
   ]
  },
  {
   "cell_type": "markdown",
   "metadata": {},
   "source": [
    "Let's estimate the square root of 3 using newton's method\n",
    "\n",
    "$x_{n+1} = x_n - \\frac{f(x_n)}{f'(x_n)}.$\n",
    "\n",
    "$x_{n+1} = x_n - \\frac{3 - x_n^2}{-2x_n}.$"
   ]
  },
  {
   "cell_type": "code",
   "execution_count": null,
   "metadata": {},
   "outputs": [],
   "source": [
    "def f(x):\n",
    "    return 3 - x**2\n",
    "\n",
    "\n",
    "def newtons_method(function):\n",
    "    x_n = 100.0  # initial guess\n",
    "    for _ in range(1000):  # run for 1000 iterations\n",
    "        diff = x_n - math.sqrt(3)\n",
    "        print(f\"{diff:.20f}\")\n",
    "        x_n = x_n - function(x_n) / grad(function)(x_n)"
   ]
  },
  {
   "cell_type": "code",
   "execution_count": null,
   "metadata": {},
   "outputs": [],
   "source": [
    "newtons_method(f)"
   ]
  },
  {
   "cell_type": "code",
   "execution_count": null,
   "metadata": {},
   "outputs": [],
   "source": []
  }
 ],
 "metadata": {
  "kernelspec": {
   "display_name": "Python 3",
   "language": "python",
   "name": "python3"
  },
  "language_info": {
   "codemirror_mode": {
    "name": "ipython",
    "version": 3
   },
   "file_extension": ".py",
   "mimetype": "text/x-python",
   "name": "python",
   "nbconvert_exporter": "python",
   "pygments_lexer": "ipython3",
   "version": "3.12.1"
  }
 },
 "nbformat": 4,
 "nbformat_minor": 2
}
