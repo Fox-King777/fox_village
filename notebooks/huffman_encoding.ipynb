{
 "cells": [
  {
   "cell_type": "code",
   "execution_count": 123,
   "metadata": {},
   "outputs": [],
   "source": [
    "import string\n",
    "import dataclasses\n",
    "from heapq import heappop, heappush\n",
    "from typing import Dict\n",
    "from collections import Counter"
   ]
  },
  {
   "cell_type": "code",
   "execution_count": 115,
   "metadata": {},
   "outputs": [],
   "source": [
    "@dataclasses.dataclass\n",
    "class Node:\n",
    "    letter: str\n",
    "    freq: int\n",
    "    left: \"Node\" = None\n",
    "    right: \"Node\" = None\n",
    "\n",
    "    def __eq__(self, value: object) -> bool:\n",
    "        return self.freq == value.freq\n",
    "\n",
    "    def __lt__(self, value: object) -> bool:\n",
    "        return self.freq < value.freq"
   ]
  },
  {
   "cell_type": "markdown",
   "metadata": {},
   "source": [
    "### *Build Huffman Tree*"
   ]
  },
  {
   "cell_type": "code",
   "execution_count": 121,
   "metadata": {},
   "outputs": [],
   "source": [
    "text = \"BCAADDDCCACACAC\""
   ]
  },
  {
   "cell_type": "code",
   "execution_count": 125,
   "metadata": {},
   "outputs": [
    {
     "name": "stdout",
     "output_type": "stream",
     "text": [
      "[('B', 1), ('D', 3), ('A', 5), ('C', 6)]\n"
     ]
    }
   ],
   "source": [
    "letter_freq = Counter(text)\n",
    "letter_freq = sorted(letter_freq.items(), key=lambda x: x[1])\n",
    "print(letter_freq)"
   ]
  },
  {
   "cell_type": "code",
   "execution_count": 126,
   "metadata": {},
   "outputs": [],
   "source": [
    "#  unused nodes\n",
    "nodes = [Node(letter, freq) for letter, freq in letter_freq]"
   ]
  },
  {
   "cell_type": "code",
   "execution_count": 138,
   "metadata": {},
   "outputs": [
    {
     "name": "stdout",
     "output_type": "stream",
     "text": [
      "Node(letter='CBDA', freq=15, left=Node(letter='C', freq=6, left=None, right=None), right=Node(letter='BDA', freq=9, left=Node(letter='BD', freq=4, left=Node(letter='B', freq=1, left=None, right=None), right=Node(letter='D', freq=3, left=None, right=None)), right=Node(letter='A', freq=5, left=None, right=None)))\n"
     ]
    }
   ],
   "source": [
    "while len(nodes) > 1:\n",
    "    left = heappop(nodes)\n",
    "    right = heappop(nodes)\n",
    "    merged = Node(left.letter + right.letter, left.freq + right.freq, left, right)\n",
    "\n",
    "    heappush(nodes, merged)\n",
    "\n",
    "huffman_tree = nodes[0]\n",
    "print(huffman_tree)"
   ]
  },
  {
   "cell_type": "markdown",
   "metadata": {},
   "source": [
    "### *Encodings*"
   ]
  },
  {
   "cell_type": "code",
   "execution_count": 163,
   "metadata": {},
   "outputs": [],
   "source": [
    "def populate_encodings(node: Node, encoding: str) -> Dict[str, str]:\n",
    "    if node.left is None and node.right is None:\n",
    "        return {node.letter: encoding}\n",
    "\n",
    "    encodings = {\n",
    "        **populate_encodings(node.left, encoding + \"0\"),\n",
    "        **populate_encodings(node.right, encoding + \"1\"),\n",
    "    }\n",
    "    return encodings"
   ]
  },
  {
   "cell_type": "code",
   "execution_count": 165,
   "metadata": {},
   "outputs": [
    {
     "name": "stdout",
     "output_type": "stream",
     "text": [
      "C: 0\n",
      "B: 100\n",
      "D: 101\n",
      "A: 11\n"
     ]
    }
   ],
   "source": [
    "encodings = populate_encodings(huffman_tree, \"\")\n",
    "for encoding in encodings:\n",
    "    print(f\"{encoding}: {encodings[encoding]}\")"
   ]
  },
  {
   "cell_type": "markdown",
   "metadata": {},
   "source": [
    "### *Compress*"
   ]
  },
  {
   "cell_type": "code",
   "execution_count": 161,
   "metadata": {},
   "outputs": [],
   "source": [
    "def compress(text: str, encodings: Dict[str, int]):\n",
    "    for char in text:\n",
    "        yield encodings[char]"
   ]
  },
  {
   "cell_type": "code",
   "execution_count": 172,
   "metadata": {},
   "outputs": [
    {
     "name": "stdout",
     "output_type": "stream",
     "text": [
      "0b1000111110110110100110110110\n"
     ]
    }
   ],
   "source": [
    "compressed_text = int(\"\".join(compress(text, encodings)), 2)\n",
    "print(bin(compressed_text))"
   ]
  },
  {
   "cell_type": "markdown",
   "metadata": {},
   "source": [
    "### *Decompress*"
   ]
  },
  {
   "cell_type": "code",
   "execution_count": null,
   "metadata": {},
   "outputs": [],
   "source": []
  }
 ],
 "metadata": {
  "kernelspec": {
   "display_name": "Python 3",
   "language": "python",
   "name": "python3"
  },
  "language_info": {
   "codemirror_mode": {
    "name": "ipython",
    "version": 3
   },
   "file_extension": ".py",
   "mimetype": "text/x-python",
   "name": "python",
   "nbconvert_exporter": "python",
   "pygments_lexer": "ipython3",
   "version": "3.12.1"
  }
 },
 "nbformat": 4,
 "nbformat_minor": 2
}
