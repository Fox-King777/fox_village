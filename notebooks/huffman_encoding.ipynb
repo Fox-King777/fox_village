{
 "cells": [
  {
   "cell_type": "code",
   "execution_count": 10,
   "metadata": {},
   "outputs": [],
   "source": [
    "import string\n",
    "import dataclasses"
   ]
  },
  {
   "cell_type": "code",
   "execution_count": 11,
   "metadata": {},
   "outputs": [],
   "source": [
    "text = \"Born in London, Turing was raised in southern England. He graduated in maths from King's College, Cambridge, and in 1938, earned a maths PhD from Princeton University. During the Second World War, Turing worked for the Government Code and Cypher School at Bletchley Park, Britain's codebreaking centre that produced Ultra intelligence. He led Hut 8, the section responsible for German naval cryptanalysis. Turing devised techniques for speeding the breaking of German ciphers, including improvements to the pre-war Polish bomba method, an electromechanical machine that could find settings for the Enigma machine. He played a crucial role in cracking intercepted messages that enabled the Allies to defeat the Axis powers in many crucial engagements, including the Battle of the Atlantic.\""
   ]
  },
  {
   "cell_type": "code",
   "execution_count": 12,
   "metadata": {},
   "outputs": [
    {
     "name": "stdout",
     "output_type": "stream",
     "text": [
      "{'a': 48, 'b': 7, 'c': 28, 'd': 29, 'e': 80, 'f': 10, 'g': 21, 'h': 27, 'i': 48, 'j': 0, 'k': 5, 'l': 29, 'm': 19, 'n': 59, 'o': 35, 'p': 11, 'q': 1, 'r': 45, 's': 28, 't': 48, 'u': 14, 'v': 5, 'w': 4, 'x': 1, 'y': 7, 'z': 0, 'A': 3, 'B': 4, 'C': 4, 'D': 2, 'E': 2, 'F': 0, 'G': 3, 'H': 4, 'I': 0, 'J': 0, 'K': 1, 'L': 1, 'M': 0, 'N': 0, 'O': 0, 'P': 4, 'Q': 0, 'R': 0, 'S': 2, 'T': 3, 'U': 2, 'V': 0, 'W': 2, 'X': 0, 'Y': 0, 'Z': 0}\n"
     ]
    }
   ],
   "source": [
    "letter_freq = {letter: 0 for letter in string.ascii_letters}\n",
    "\n",
    "for char in text:\n",
    "    if char.isalpha():\n",
    "        letter_freq[char] += 1\n",
    "letter_freq = sorted(letter_freq.items(), key=lambda x: x[1])\n",
    "print(letter_freq)"
   ]
  },
  {
   "cell_type": "code",
   "execution_count": 18,
   "metadata": {},
   "outputs": [],
   "source": []
  },
  {
   "cell_type": "code",
   "execution_count": null,
   "metadata": {},
   "outputs": [],
   "source": []
  }
 ],
 "metadata": {
  "kernelspec": {
   "display_name": "Python 3",
   "language": "python",
   "name": "python3"
  },
  "language_info": {
   "codemirror_mode": {
    "name": "ipython",
    "version": 3
   },
   "file_extension": ".py",
   "mimetype": "text/x-python",
   "name": "python",
   "nbconvert_exporter": "python",
   "pygments_lexer": "ipython3",
   "version": "3.12.1"
  }
 },
 "nbformat": 4,
 "nbformat_minor": 2
}
