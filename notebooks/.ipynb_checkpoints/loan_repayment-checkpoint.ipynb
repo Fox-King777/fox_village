{
 "cells": [
  {
   "cell_type": "code",
   "execution_count": null,
   "id": "f1d085ea",
   "metadata": {},
   "outputs": [],
   "source": [
    "def sim(n, k, m, x):\n",
    "    g = 0\n",
    "    while k > 0 and g < n:\n",
    "        y = int((n - g) / x)\n",
    "        if y < m:\n",
    "            left_over_days = int((n - g + m - 1) / m)\n",
    "            return left_over_days <= k\n",
    "        \n",
    "        numdays = int((n - x * y - g) / y + 1)\n",
    "        numdays = min(numdays, k)\n",
    "        g += y * numdays\n",
    "        k -= numdays\n",
    "    return g >= n"
   ]
  },
  {
   "cell_type": "code",
   "execution_count": null,
   "id": "7d09a569",
   "metadata": {},
   "outputs": [],
   "source": [
    "n, k, m = [int(x) for x in input().split()]\n",
    "\n",
    "hi = 1000000000000\n",
    "lo = 1\n",
    "ans = 0\n",
    "while lo <= hi:\n",
    "    mid = int((lo + hi) / 2)\n",
    "    \n",
    "    if sim(n, k, m, mid):\n",
    "        ans = max(ans, mid)\n",
    "        lo = mid + 1\n",
    "    else:\n",
    "        hi = mid - 1\n",
    "\n",
    "print(ans)"
   ]
  }
 ],
 "metadata": {
  "kernelspec": {
   "display_name": "Python 3",
   "language": "python",
   "name": "python3"
  },
  "language_info": {
   "codemirror_mode": {
    "name": "ipython",
    "version": 3
   },
   "file_extension": ".py",
   "mimetype": "text/x-python",
   "name": "python",
   "nbconvert_exporter": "python",
   "pygments_lexer": "ipython3",
   "version": "3.9.5"
  }
 },
 "nbformat": 4,
 "nbformat_minor": 5
}
