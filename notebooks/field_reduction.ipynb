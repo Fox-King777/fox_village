{
 "cells": [
  {
   "cell_type": "code",
   "execution_count": 1,
   "id": "4bc0cbf6",
   "metadata": {},
   "outputs": [],
   "source": [
    "def is_valid(cows, minx, maxx, miny, maxy):\n",
    "    out = 0\n",
    "    for cow in cows:\n",
    "        if (cow[0] < minx or cow[0] > maxx or cow[1] < miny or cow[1] > maxy):\n",
    "            out += 1\n",
    "    return out <= 3"
   ]
  },
  {
   "cell_type": "code",
   "execution_count": 25,
   "id": "8fc0df63",
   "metadata": {},
   "outputs": [
    {
     "name": "stdout",
     "output_type": "stream",
     "text": [
      "6\n",
      "1 1\n",
      "7 8\n",
      "10 9\n",
      "8 12\n",
      "4 100\n",
      "50 7\n",
      "12\n"
     ]
    }
   ],
   "source": [
    "import sys\n",
    "\n",
    "n = int(input())\n",
    "cows = [tuple(map(int, input().split())) for _ in range(n)]\n",
    "\n",
    "cows.sort(key = lambda x: x[0])\n",
    "\n",
    "minx = cows[:4]\n",
    "maxx = cows[-4:]\n",
    "\n",
    "cows.sort(key = lambda x: x[1])\n",
    "\n",
    "miny = cows[:4]\n",
    "maxy = cows[-4:]\n",
    "\n",
    "ans = None\n",
    "for a in minx:\n",
    "    for b in maxx:\n",
    "        for c in miny:\n",
    "            for d in maxy:\n",
    "                if is_valid(cows, a[0], b[0], c[1], d[1]):\n",
    "                    v = (b[0] - a[0]) * (d[1] - c[1])\n",
    "                    ans = v if ans is None else min(ans, v)\n",
    "\n",
    "print(ans)"
   ]
  },
  {
   "cell_type": "code",
   "execution_count": null,
   "id": "2f400493",
   "metadata": {},
   "outputs": [],
   "source": []
  }
 ],
 "metadata": {
  "kernelspec": {
   "display_name": "Python 3",
   "language": "python",
   "name": "python3"
  },
  "language_info": {
   "codemirror_mode": {
    "name": "ipython",
    "version": 3
   },
   "file_extension": ".py",
   "mimetype": "text/x-python",
   "name": "python",
   "nbconvert_exporter": "python",
   "pygments_lexer": "ipython3",
   "version": "3.9.5"
  }
 },
 "nbformat": 4,
 "nbformat_minor": 5
}
