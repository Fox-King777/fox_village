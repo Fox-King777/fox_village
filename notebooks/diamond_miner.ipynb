{
 "cells": [
  {
   "cell_type": "code",
   "execution_count": null,
   "id": "2288f91e",
   "metadata": {},
   "outputs": [],
   "source": [
    "import math\n",
    "\n",
    "n = int(input())\n",
    "    \n",
    "m = []\n",
    "d = []\n",
    "\n",
    "for i in range(2 * n):\n",
    "    x, y = [int(x) for x in input().split()]\n",
    "    if x == 0:\n",
    "        m.append(abs(y))\n",
    "    else:\n",
    "        d.append(abs(x))\n",
    "        \n",
    "m.sort()\n",
    "d.sort()\n",
    "    \n",
    "ans = 0.0\n",
    "for i in range(n):\n",
    "    ans += math.sqrt(m[i]**2 + d[i]**2)\n",
    "    \n",
    "print(ans)"
   ]
  },
  {
   "cell_type": "code",
   "execution_count": null,
   "id": "aa2a6daf",
   "metadata": {},
   "outputs": [],
   "source": []
  }
 ],
 "metadata": {
  "kernelspec": {
   "display_name": "Python 3",
   "language": "python",
   "name": "python3"
  },
  "language_info": {
   "codemirror_mode": {
    "name": "ipython",
    "version": 3
   },
   "file_extension": ".py",
   "mimetype": "text/x-python",
   "name": "python",
   "nbconvert_exporter": "python",
   "pygments_lexer": "ipython3",
   "version": "3.9.5"
  }
 },
 "nbformat": 4,
 "nbformat_minor": 5
}
