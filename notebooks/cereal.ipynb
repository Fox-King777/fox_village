{
 "cells": [
  {
   "cell_type": "code",
   "execution_count": 1,
   "id": "6248bef3",
   "metadata": {},
   "outputs": [
    {
     "name": "stdout",
     "output_type": "stream",
     "text": [
      "4 2\n",
      "1 2\n",
      "1 2\n",
      "1 2\n",
      "1 2\n",
      "[2, 2, 2, 1]\n"
     ]
    }
   ],
   "source": [
    "n, m = [int(x) for x in input().split()]\n",
    "\n",
    "cowp = [[int(x) - 1 for x in input().split()] for _ in range(n)]\n",
    "\n",
    "rev_ans = []\n",
    "possesion = [0] * m\n",
    "ans = 0\n",
    "for i in range(n - 1, -1, -1):\n",
    "    j = i\n",
    "    take = cowp[j][0]\n",
    "    while (True):\n",
    "        ans += 1\n",
    "        if possesion[take] == 0:\n",
    "            possesion[take] = j\n",
    "            break\n",
    "        elif possesion[take] < j:\n",
    "            break\n",
    "        else:\n",
    "            ans -= 1\n",
    "            prev = possesion[take]\n",
    "            possesion[take] = j\n",
    "            if take == cowp[j][1]:\n",
    "                break\n",
    "            j = prev\n",
    "            take = cowp[j][1]\n",
    "    rev_ans.append(ans)\n",
    "\n",
    "rev_ans.reverse()\n",
    "print(rev_ans)"
   ]
  },
  {
   "cell_type": "code",
   "execution_count": null,
   "id": "0df39026",
   "metadata": {},
   "outputs": [],
   "source": []
  }
 ],
 "metadata": {
  "kernelspec": {
   "display_name": "Python 3",
   "language": "python",
   "name": "python3"
  },
  "language_info": {
   "codemirror_mode": {
    "name": "ipython",
    "version": 3
   },
   "file_extension": ".py",
   "mimetype": "text/x-python",
   "name": "python",
   "nbconvert_exporter": "python",
   "pygments_lexer": "ipython3",
   "version": "3.9.5"
  }
 },
 "nbformat": 4,
 "nbformat_minor": 5
}
