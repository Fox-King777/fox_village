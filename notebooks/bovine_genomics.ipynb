{
 "cells": [
  {
   "cell_type": "code",
   "execution_count": null,
   "id": "017bb99a",
   "metadata": {},
   "outputs": [],
   "source": [
    "n, m = [int(x) for x in input().split()]\n",
    "\n",
    "spotty = [input() for _ in range(n)]\n",
    "plain = [input() for _ in range(n)]\n",
    "\n",
    "ans = 0\n",
    "for i in range(m):\n",
    "    for j in range(i + 1, m):\n",
    "        for k in range(j + 1, m):\n",
    "            spotty_set = set(spotty[s][i] + spotty[s][j] + spotty[s][k] for s in range(n))\n",
    "            plain_set = set(plain[s][i] + plain[s][j] + plain[s][k] for s in range(n))\n",
    "            \n",
    "            if not spotty_set.intersection(plain_set):\n",
    "                ans += 1\n",
    "print(ans)"
   ]
  },
  {
   "cell_type": "code",
   "execution_count": null,
   "id": "4acaaef8",
   "metadata": {},
   "outputs": [],
   "source": [
    "\"\"\"\n",
    "3 8\n",
    "AATCCCAT\n",
    "GATTGCAA\n",
    "GGTCGCAA\n",
    "ACTCCCAG\n",
    "ACTCGCAT\n",
    "ACTTCCAT\n",
    "\"\"\""
   ]
  }
 ],
 "metadata": {
  "kernelspec": {
   "display_name": "Python 3",
   "language": "python",
   "name": "python3"
  },
  "language_info": {
   "codemirror_mode": {
    "name": "ipython",
    "version": 3
   },
   "file_extension": ".py",
   "mimetype": "text/x-python",
   "name": "python",
   "nbconvert_exporter": "python",
   "pygments_lexer": "ipython3",
   "version": "3.9.5"
  }
 },
 "nbformat": 4,
 "nbformat_minor": 5
}
