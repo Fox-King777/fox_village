{
 "cells": [
  {
   "cell_type": "code",
   "execution_count": null,
   "id": "72cb0617",
   "metadata": {},
   "outputs": [],
   "source": [
    "from queue import Queue\n",
    "\n",
    "def floodfill(xy, mark, idx):\n",
    "    q = Queue(maxsize = 0)\n",
    "    q.put(idx)\n",
    "    mark[idx] = True\n",
    "    \n",
    "    while(not q.empty()):\n",
    "        v = q.get()\n",
    "        for i in range(len(xy)):\n",
    "            if (not mark[i]) and ((xy[i][0] >= xy[v][0] and xy[i][1] >= xy[v][1]) or \n",
    "                             (xy[i][0] <= xy[v][0] and xy[i][1] <= xy[v][1])):\n",
    "                mark[i] = True\n",
    "                q.put(i)"
   ]
  },
  {
   "cell_type": "code",
   "execution_count": null,
   "id": "598566f1",
   "metadata": {},
   "outputs": [],
   "source": [
    "n = int(input())\n",
    "xy = [tuple(map(int, input().split())) for _ in range(n)]\n",
    "\n",
    "mark = [False] * n\n",
    "ans = 0\n",
    "for i in range(n):\n",
    "    if not mark[i]:\n",
    "        ans += 1\n",
    "        floodfill(xy, mark, i)\n",
    "\n",
    "print(ans)"
   ]
  },
  {
   "cell_type": "code",
   "execution_count": null,
   "id": "8410b9a2",
   "metadata": {},
   "outputs": [],
   "source": []
  }
 ],
 "metadata": {
  "kernelspec": {
   "display_name": "Python 3",
   "language": "python",
   "name": "python3"
  },
  "language_info": {
   "codemirror_mode": {
    "name": "ipython",
    "version": 3
   },
   "file_extension": ".py",
   "mimetype": "text/x-python",
   "name": "python",
   "nbconvert_exporter": "python",
   "pygments_lexer": "ipython3",
   "version": "3.9.5"
  }
 },
 "nbformat": 4,
 "nbformat_minor": 5
}
